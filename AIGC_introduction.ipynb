{
  "nbformat": 4,
  "nbformat_minor": 0,
  "metadata": {
    "colab": {
      "provenance": []
    },
    "kernelspec": {
      "name": "python3",
      "display_name": "Python 3"
    },
    "language_info": {
      "name": "python"
    }
  },
  "cells": [
    {
      "cell_type": "markdown",
      "source": [
        "# AIGC_introduction\n",
        "\n",
        "AIGC是指AI Generated Content，即利用人工智能技術來生成內容。它被認為是繼PGC、UGC之後的新型內容創作方式。"
      ],
      "metadata": {
        "id": "X-QJVTZ_7A5p"
      }
    },
    {
      "cell_type": "markdown",
      "source": [
        "## chatGPT"
      ],
      "metadata": {
        "id": "xeX6BgCHmwqs"
      }
    },
    {
      "cell_type": "markdown",
      "source": [
        "## midjourney"
      ],
      "metadata": {
        "id": "ivqRYXM95hsK"
      }
    },
    {
      "cell_type": "markdown",
      "source": [
        "##Stable Diffusion"
      ],
      "metadata": {
        "id": "jRB0Dk2T5jsx"
      }
    },
    {
      "cell_type": "markdown",
      "source": [
        "## FireFly\n",
        "\n",
        "https://www.adobe.com/sensei/generative-ai/firefly.html"
      ],
      "metadata": {
        "id": "P4CDu6yQ5mH5"
      }
    }
  ]
}