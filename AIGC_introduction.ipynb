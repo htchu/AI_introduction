{
  "nbformat": 4,
  "nbformat_minor": 0,
  "metadata": {
    "colab": {
      "provenance": []
    },
    "kernelspec": {
      "name": "python3",
      "display_name": "Python 3"
    },
    "language_info": {
      "name": "python"
    }
  },
  "cells": [
    {
      "cell_type": "markdown",
      "source": [
        "# AIGC_introduction\n",
        "\n",
        "AIGC是指AI Generated Content，即利用人工智能技術來生成內容。它被認為是繼PGC、UGC之後的新型內容創作方式。"
      ],
      "metadata": {
        "id": "X-QJVTZ_7A5p"
      }
    }
  ]
}