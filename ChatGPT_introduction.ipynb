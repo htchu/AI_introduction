{
  "nbformat": 4,
  "nbformat_minor": 0,
  "metadata": {
    "colab": {
      "provenance": []
    },
    "kernelspec": {
      "name": "python3",
      "display_name": "Python 3"
    },
    "language_info": {
      "name": "python"
    }
  },
  "cells": [
    {
      "cell_type": "markdown",
      "source": [
        "# ChatGPT_introduction\n",
        "\n",
        "ChatGPT再一次掀起了AI的熱潮\n",
        "\n",
        "https://github.com/dalinvip/Awesome-ChatGPT"
      ],
      "metadata": {
        "id": "8pwUAO2s5Piy"
      }
    },
    {
      "cell_type": "markdown",
      "source": [
        "<div align=center>\n",
        "<img src=\"https://www.gizchina.com/wp-content/uploads/images/2023/01/ChatGPT3-700x394.jpg\" width=\"50%\" height=\"50%\" div align=center />\n",
        "</div>  "
      ],
      "metadata": {
        "id": "mpMiwJ0J6O2h"
      }
    },
    {
      "cell_type": "markdown",
      "source": [],
      "metadata": {
        "id": "yVicFfDN6pHB"
      }
    }
  ]
}